{
 "cells": [
  {
   "cell_type": "code",
   "execution_count": 10,
   "metadata": {},
   "outputs": [
    {
     "name": "stdout",
     "output_type": "stream",
     "text": [
      "Successfully read data into a DataFrame with shape (33076, 2).\n"
     ]
    }
   ],
   "source": [
    "# Try heuristic-based approach to find the data section\n",
    "data_lines = []\n",
    "in_data_section = False\n",
    "\n",
    "try:\n",
    "    with open(file_path, 'r') as f:\n",
    "        for line in f:\n",
    "            # Start collecting lines if we suspect the data section has started\n",
    "            if in_data_section:\n",
    "                data_lines.append(line.strip())\n",
    "            \n",
    "            # Heuristic: If a line starts with \"ID_REF\", it may be the start of the data section\n",
    "            if line.startswith(\"ID_REF\"):\n",
    "                in_data_section = True\n",
    "                data_lines.append(line.strip())\n",
    "            \n",
    "            # Stop collecting lines if we reach a line with only control characters or just empty\n",
    "            if in_data_section and (line.strip() == '' or all(c in ['!', '^', '#'] for c in line.strip())):\n",
    "                break\n",
    "\n",
    "    # Check if any data was collected\n",
    "    if data_lines:\n",
    "        # Convert list of lines to a single string and then read it into a DataFrame\n",
    "        data_str = '\\n'.join(data_lines)\n",
    "        from io import StringIO\n",
    "        df = pd.read_csv(StringIO(data_str), sep='\\t')\n",
    "        print(f\"Successfully read data into a DataFrame with shape {df.shape}.\")\n",
    "    else:\n",
    "        print(\"Could not find the data section using heuristic-based approach.\")\n",
    "except Exception as e:\n",
    "    print(f\"An error occurred during heuristic-based data extraction: {e}\")"
   ]
  },
  {
   "cell_type": "code",
   "execution_count": 11,
   "metadata": {},
   "outputs": [
    {
     "data": {
      "text/html": [
       "<div>\n",
       "<style scoped>\n",
       "    .dataframe tbody tr th:only-of-type {\n",
       "        vertical-align: middle;\n",
       "    }\n",
       "\n",
       "    .dataframe tbody tr th {\n",
       "        vertical-align: top;\n",
       "    }\n",
       "\n",
       "    .dataframe thead th {\n",
       "        text-align: right;\n",
       "    }\n",
       "</style>\n",
       "<table border=\"1\" class=\"dataframe\">\n",
       "  <thead>\n",
       "    <tr style=\"text-align: right;\">\n",
       "      <th></th>\n",
       "      <th>ID_REF</th>\n",
       "      <th>VALUE</th>\n",
       "    </tr>\n",
       "  </thead>\n",
       "  <tbody>\n",
       "    <tr>\n",
       "      <th>0</th>\n",
       "      <td>17748</td>\n",
       "      <td>1.673170732</td>\n",
       "    </tr>\n",
       "    <tr>\n",
       "      <th>1</th>\n",
       "      <td>50442</td>\n",
       "      <td>0.007317073</td>\n",
       "    </tr>\n",
       "    <tr>\n",
       "      <th>2</th>\n",
       "      <td>49277</td>\n",
       "      <td>0.056097561</td>\n",
       "    </tr>\n",
       "    <tr>\n",
       "      <th>3</th>\n",
       "      <td>10916</td>\n",
       "      <td>0.029268293</td>\n",
       "    </tr>\n",
       "    <tr>\n",
       "      <th>4</th>\n",
       "      <td>49213</td>\n",
       "      <td>0.02195122</td>\n",
       "    </tr>\n",
       "  </tbody>\n",
       "</table>\n",
       "</div>"
      ],
      "text/plain": [
       "  ID_REF        VALUE\n",
       "0  17748  1.673170732\n",
       "1  50442  0.007317073\n",
       "2  49277  0.056097561\n",
       "3  10916  0.029268293\n",
       "4  49213   0.02195122"
      ]
     },
     "execution_count": 11,
     "metadata": {},
     "output_type": "execute_result"
    }
   ],
   "source": [
    "df.head()"
   ]
  },
  {
   "cell_type": "code",
   "execution_count": 12,
   "metadata": {},
   "outputs": [
    {
     "name": "stdout",
     "output_type": "stream",
     "text": [
      "      ID Name  1C vs 1A  2C vs 2A  3C vs 3A  1C vs 2C  2C vs 3C  1C vs 3C  \\\n",
      "0  13138  Hy3  3.770589  1.486605  2.019192  2.659807  0.699878  1.861539   \n",
      "1  17942  NaN       NaN  1.177539  2.580789  3.933386  1.047953  4.122003   \n",
      "2  42839  NaN       NaN  2.117379       NaN  2.434512  0.589083  1.434128   \n",
      "3  46483  NaN       NaN  1.575916       NaN  3.917607  0.421924  1.652931   \n",
      "4  11062  NaN       NaN  2.465142       NaN  2.424590  0.589485  1.429261   \n",
      "\n",
      "       1C      2C  ...    3C.1   1A.1   2A.1   3A.1       1C.2       2C.2  \\\n",
      "0  3185.5  2975.0  ...  2900.5  602.0  642.0  682.5  26.862661  10.099476   \n",
      "1   333.0   248.0  ...   119.5  -27.5   50.0   22.0   2.450644   0.623037   \n",
      "2   150.0   169.5  ...   118.5  -81.5   15.5  -11.5   0.845494   0.347295   \n",
      "3   122.0   117.0  ...    71.5  -47.5    9.0   -6.0   0.587983   0.150087   \n",
      "4   122.5   138.0  ...    84.5 -112.0    9.5   -6.0   0.600858   0.247818   \n",
      "\n",
      "        3C.2     1A.2      2A.2      3A.2  \n",
      "0  14.430348  7.12426  6.793651  7.146597  \n",
      "1   0.594527      NaN  0.529101  0.230366  \n",
      "2   0.589552      NaN  0.164021       NaN  \n",
      "3   0.355721      NaN  0.095238       NaN  \n",
      "4   0.420398      NaN  0.100529       NaN  \n",
      "\n",
      "[5 rows x 26 columns]\n",
      "  # This document contains raw intensities for all 6 slides.\\n# Column \"Block\": block number of each probe.\\n# Column \"Column\": column number of each probe.\\n# Column \"Row\": row number of each probe.\\n# Column \"Name\": the name of each miRNA/probe.\\n# Column \"ID\": array ID of the probes, each miRNA always has its unique probe, but some miRNAs may have two different probes.\\n# Column \"ForeGround\": the foreground intensity of each probe.\\n# Column \"ForeGround - BackGround\": the signal of the probe after background correction.  \\\n",
      "0                                                NaN                                                                                                                                                                                                                                                                                                                                                                                                                                                                                               \n",
      "1                                                NaN                                                                                                                                                                                                                                                                                                                                                                                                                                                                                               \n",
      "2                                              Block                                                                                                                                                                                                                                                                                                                                                                                                                                                                                               \n",
      "3                                                  1                                                                                                                                                                                                                                                                                                                                                                                                                                                                                               \n",
      "4                                                  1                                                                                                                                                                                                                                                                                                                                                                                                                                                                                               \n",
      "\n",
      "  Unnamed: 1 Unnamed: 2 Unnamed: 3 Unnamed: 4  Unnamed: 5 Unnamed: 6  \\\n",
      "0        NaN        NaN        NaN        NaN         NaN        NaN   \n",
      "1        NaN        NaN        NaN        NaN  ForeGround        NaN   \n",
      "2     Column        Row       Name         ID      1C - F     2C - F   \n",
      "3          1          1        Hy3      13138        2279       3709   \n",
      "4          2          1        NaN      17942         383        238   \n",
      "\n",
      "  Unnamed: 7               Unnamed: 8 Unnamed: 9 Unnamed: 10  \n",
      "0        NaN                      NaN        NaN         NaN  \n",
      "1        NaN  ForeGround - BackGround        NaN         NaN  \n",
      "2     3C - F                 1C - F-B   2C - F-B    3C - F-B  \n",
      "3       1801                     2211       3634        1738  \n",
      "4        190                      329        161         132  \n"
     ]
    }
   ],
   "source": [
    "import pandas as pd\n",
    "\n",
    "file_path_1 = 'dataset/GLDS-166_miRNA_microarray_GSE90872_miRNA_Expression_Profiling_Data.csv'\n",
    "file_path_2 = 'dataset/GLDS-166_miRNA_microarray_GSE90872_Raw_Intensity_File.csv'\n",
    "\n",
    "df_expression_profile = pd.read_csv(file_path_1)\n",
    "df_raw_intensity = pd.read_csv(file_path_2)\n",
    "\n",
    "print(df_expression_profile.head())\n",
    "print(df_raw_intensity.head())"
   ]
  },
  {
   "cell_type": "code",
   "execution_count": 13,
   "metadata": {},
   "outputs": [
    {
     "name": "stdout",
     "output_type": "stream",
     "text": [
      "                 ID     1C vs 1A     2C vs 2A    3C vs 3A     1C vs 2C  \\\n",
      "count   2314.000000  1219.000000  1862.000000  856.000000  2313.000000   \n",
      "mean   44357.822818    17.292745     5.326125    8.473092     3.270309   \n",
      "std    11352.052985    79.467360    24.916474   29.767019     2.117342   \n",
      "min       -1.000000     0.019322     0.018201    0.003302     0.204818   \n",
      "25%    47303.000000     2.239935     0.984514    0.389876     2.300568   \n",
      "50%    49245.500000     6.049844     1.798102    1.555627     3.016652   \n",
      "75%    49855.750000    13.366646     3.454671    5.417815     3.813184   \n",
      "max    50476.000000  2457.027897   492.959597  414.288661    54.594850   \n",
      "\n",
      "          2C vs 3C     1C vs 3C            1C            2C            3C  \\\n",
      "count  2312.000000  2313.000000   2314.000000   2314.000000   2314.000000   \n",
      "mean      0.910047     2.445913    253.172645    368.982282    251.810285   \n",
      "std       1.478653     4.296917    888.980230   1772.551398   1042.789295   \n",
      "min       0.033518     0.074823     54.500000     71.500000     62.500000   \n",
      "25%       0.396676     1.203933     99.500000    107.000000    120.000000   \n",
      "50%       0.533290     1.568474    115.000000    121.500000    139.000000   \n",
      "75%       0.775809     2.135149    140.000000    156.500000    171.000000   \n",
      "max      24.441610    81.516199  15129.500000  43153.500000  28089.000000   \n",
      "\n",
      "       ...          3C.1         1A.1         2A.1          3A.1         1C.2  \\\n",
      "count  ...   2314.000000  2314.000000  2314.000000   2314.000000  2314.000000   \n",
      "mean   ...    177.881374    30.382239    58.279602    112.851556     1.723829   \n",
      "std    ...   1042.145748   335.509468   320.560603    899.947326     7.623649   \n",
      "min    ...     -2.000000  -583.000000  -181.500000   -172.000000     0.017167   \n",
      "25%    ...     52.500000    -7.500000     2.000000    -10.000000     0.407725   \n",
      "50%    ...     68.500000     1.000000     7.500000     -4.000000     0.540773   \n",
      "75%    ...     93.375000    11.500000    20.000000     12.500000     0.755365   \n",
      "max    ...  28020.000000  8806.500000  6185.500000  24205.500000   129.283262   \n",
      "\n",
      "              2C.2         3C.2         1A.2         2A.2        3A.2  \n",
      "count  2313.000000  2313.000000  1219.000000  1863.000000  856.000000  \n",
      "mean      1.040393     0.885369     1.255486     0.817351    3.398261  \n",
      "std       6.188061     5.185892     5.227482     3.750542   15.244365  \n",
      "min       0.008726     0.024876     0.005917     0.005291    0.005236  \n",
      "25%       0.125654     0.261194     0.047337     0.058201    0.083770  \n",
      "50%       0.176265     0.340796     0.118343     0.105820    0.324607  \n",
      "75%       0.296684     0.465174     0.470414     0.306878    1.321990  \n",
      "max     150.345550   139.402985   104.218935    65.455026  253.460733  \n",
      "\n",
      "[8 rows x 25 columns]\n"
     ]
    }
   ],
   "source": [
    "summary_stats = df_expression_profile.describe()\n",
    "print(summary_stats)"
   ]
  }
 ],
 "metadata": {
  "kernelspec": {
   "display_name": "base",
   "language": "python",
   "name": "python3"
  },
  "language_info": {
   "codemirror_mode": {
    "name": "ipython",
    "version": 3
   },
   "file_extension": ".py",
   "mimetype": "text/x-python",
   "name": "python",
   "nbconvert_exporter": "python",
   "pygments_lexer": "ipython3",
   "version": "3.11.3"
  }
 },
 "nbformat": 4,
 "nbformat_minor": 2
}
